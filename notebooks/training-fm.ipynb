{
  "cells": [
    {
      "cell_type": "markdown",
      "metadata": {
        "id": "hyUknVaRWzDK"
      },
      "source": [
        "## 1. Clone Repository and Install Dependencies"
      ]
    },
    {
      "cell_type": "code",
      "execution_count": null,
      "metadata": {
        "colab": {
          "base_uri": "https://localhost:8080/"
        },
        "id": "fwpnD-vsWO-",
        "outputId": "f2e807da-b6cd-433b-a291-f769d6dc6313"
      },
      "outputs": [],
      "source": [
        "# Remove the existing directory if it exists to ensure a clean clone.\n",
        "!rm -rf llm-feature-eng-recsys\n",
        "# Clone the project repository from GitHub into the Colab environment.\n",
        "# This ensures we are always using the latest version of the code.\n",
        "!git clone https://github.com/mariostam/llm-feature-eng-recsys.git\n",
        "%cd llm-feature-eng-recsys"
      ]
    },
    {
      "cell_type": "code",
      "execution_count": null,
      "metadata": {
        "colab": {
          "base_uri": "https://localhost:8080/"
        },
        "id": "1DVmvLVOWgc6",
        "outputId": "9fade252-8385-4642-87c3-9aea223eee91"
      },
      "outputs": [],
      "source": [
        "# Install the necessary Python libraries.\n",
        "!pip install pandas numpy torch scikit-learn optuna matplotlib pyarrow"
      ]
    },
    {
      "cell_type": "markdown",
      "metadata": {
        "id": "jzQo0KIhW9LS"
      },
      "source": [
        "## 2. Run the Experiment"
      ]
    },
    {
      "cell_type": "code",
      "execution_count": null,
      "metadata": {
        "colab": {
          "base_uri": "https://localhost:8080/"
        },
        "id": "cgBF9KI5XBR3",
        "outputId": "70b8104d-f69f-4fde-b733-d0b4d506f550"
      },
      "outputs": [],
      "source": [
        "# Run the main experiment script.\n",
        "!python scripts/run_fm_model.py"
      ]
    }
  ],
  "metadata": {
    "colab": {
      "provenance": []
    },
    "kernelspec": {
      "display_name": "Python 3",
      "name": "python3"
    },
    "language_info": {
      "name": "python"
    }
  },
  "nbformat": 4,
  "nbformat_minor": 0
}
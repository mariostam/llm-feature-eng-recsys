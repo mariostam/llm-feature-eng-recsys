{
 "cells": [
  {
   "cell_type": "markdown",
   "metadata": {},
   "source": [
    "# Merge Processed Batches\n",
    "\n",
    "This notebook merges all the individual processed batch files from Google Cloud Storage (GCS) into a single, final Parquet file. This creates a clean, unified dataset that will be the input for the modeling phase."
   ]
  },
  {
   "cell_type": "code",
   "execution_count": null,
   "metadata": {},
   "outputs": [],
   "source": [
    "import pandas as pd\n",
    "import gcsfs\n",
    "from google.cloud import storage"
   ]
  },
  {
   "cell_type": "code",
   "execution_count": null,
   "metadata": {},
   "outputs": [],
   "source": [
    "GCS_BUCKET_NAME = 'llm-feature-engineering-thesis-bucket'\n",
    "PROCESSED_BATCHES_PREFIX = 'processed_batches/' # The \"folder\" in GCS where batches are stored\n",
    "FINAL_OUTPUT_FILE = 'final_llm_features_dataset.parquet'"
   ]
  },
  {
   "cell_type": "code",
   "execution_count": null,
   "metadata": {},
   "outputs": [],
   "source": [
    "# Authenticate and Initialize Clients\n",
    "from google.colab import auth\n",
    "auth.authenticate_user()\n",
    "storage_client = storage.Client()\n",
    "gcs = gcsfs.GCSFileSystem()"
   ]
  },
  {
   "cell_type": "code",
   "execution_count": null,
   "metadata": {},
   "outputs": [],
   "source": [
    "# List all processed batch files\n",
    "print(f\"Listing files from gs://{GCS_BUCKET_NAME}/{PROCESSED_BATCHES_PREFIX}...\")\n",
    "batch_files = gcs.glob(f\"gs://{GCS_BUCKET_NAME}/{PROCESSED_BATCHES_PREFIX}*.parquet\")\n",
    "print(f\"Found {len(batch_files)} batch files to merge.\")\n",
    "\n",
    "if not batch_files:\n",
    "    print(\"No batch files found. Exiting.\")\n",
    "else:\n",
    "    # Load all dataframes into a list\n",
    "    df_list = []\n",
    "    for f in batch_files:\n",
    "        print(f\"Reading {f}...\")\n",
    "        with gcs.open(f, 'rb') as f_handle:\n",
    "            df_list.append(pd.read_parquet(f_handle))\n",
    "\n",
    "    # Concatenate into a single dataframe\n",
    "    print(\"Concatenating all dataframes...\")\n",
    "    final_df = pd.concat(df_list, ignore_index=True)\n",
    "\n",
    "    print(f\"Total rows before deduplication: {len(final_df)}\")\n",
    "\n",
    "    # Remove duplicate rows based on user_id and movie_id\n",
    "    final_df.drop_duplicates(subset=['user_id', 'movie_id'], inplace=True)\n",
    "\n",
    "    print(f\"Total rows after deduplication: {len(final_df)}\")\n",
    "\n",
    "    # Save the final merged dataframe to GCS\n",
    "    final_gcs_path = f'gs://{GCS_BUCKET_NAME}/{FINAL_OUTPUT_FILE}'\n",
    "    print(f\"Saving merged dataframe to {final_gcs_path}...\")\n",
    "    final_df.to_parquet(final_gcs_path)\n",
    "\n",
    "    print(\"\\nVerification\")\n",
    "    print(f\"Successfully created final dataset with {len(final_df)} rows.\")\n",
    "    print(\"Final Dataframe Info:\")\n",
    "    final_df.info()\n",
    "    print(\"\\nFirst 5 rows:\")\n",
    "    print(final_df.head())"
   ]
  }
 ],
 "metadata": {
  "kernelspec": {
   "display_name": "Python 3",
   "language": "python",
   "name": "python3"
  },
  "language_info": {
   "codemirror_mode": {
    "name": "ipython",
    "version": 3
   },
   "file_extension": ".py",
   "mimetype": "text/x-python",
   "name": "python",
   "nbconvert_exporter": "python",
   "pygments_lexer": "ipython3",
   "version": "3.11.5"
  }
 },
 "nbformat": 4,
 "nbformat_minor": 4
}
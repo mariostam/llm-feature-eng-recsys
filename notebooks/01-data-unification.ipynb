{
 "cells": [
  {
   "cell_type": "code",
   "execution_count": 1,
   "metadata": {},
   "outputs": [
    {
     "name": "stdout",
     "output_type": "stream",
     "text": [
      "Master dataframe created successfully!\n",
      "   user_id  movie_id  rating      title  \\\n",
      "0        2         1     3.5  Toy Story   \n",
      "1        3         1     4.0  Toy Story   \n",
      "2        4         1     3.0  Toy Story   \n",
      "3        5         1     4.0  Toy Story   \n",
      "4        8         1     4.0  Toy Story   \n",
      "\n",
      "                                       plot_overview  \\\n",
      "0  Led by Woody, Andy's toys live happily in his ...   \n",
      "1  Led by Woody, Andy's toys live happily in his ...   \n",
      "2  Led by Woody, Andy's toys live happily in his ...   \n",
      "3  Led by Woody, Andy's toys live happily in his ...   \n",
      "4  Led by Woody, Andy's toys live happily in his ...   \n",
      "\n",
      "                                      human_keywords  \n",
      "0  [{\"id\": 931, \"name\": \"jealousy\"}, {\"id\": 4290,...  \n",
      "1  [{\"id\": 931, \"name\": \"jealousy\"}, {\"id\": 4290,...  \n",
      "2  [{\"id\": 931, \"name\": \"jealousy\"}, {\"id\": 4290,...  \n",
      "3  [{\"id\": 931, \"name\": \"jealousy\"}, {\"id\": 4290,...  \n",
      "4  [{\"id\": 931, \"name\": \"jealousy\"}, {\"id\": 4290,...  \n"
     ]
    }
   ],
   "source": [
    "import pandas as pd\n",
    "\n",
    "# Load original datasets from MovieLens (ml-25m) and TMDB (tmdb_5000).\n",
    "ratings = pd.read_csv('/Users/mariostam/Documents/Projects/thesis/llm-powered-feature-engineering/data/ml-25m/ratings.csv')\n",
    "links = pd.read_csv('/Users/mariostam/Documents/Projects/thesis/llm-powered-feature-engineering/data/ml-25m/links.csv')\n",
    "movies_ml = pd.read_csv('/Users/mariostam/Documents/Projects/thesis/llm-powered-feature-engineering/data/ml-25m/movies.csv')\n",
    "movies_tmdb = pd.read_csv('/Users/mariostam/Documents/Projects/thesis/llm-powered-feature-engineering/data/tmdb_5000_movies.csv')\n",
    "credits_tmdb = pd.read_csv('/Users/mariostam/Documents/Projects/thesis/llm-powered-feature-engineering/data/tmdb_5000_credits.csv')\n",
    "\n",
    "# Combine TMDB movie details with their corresponding credits.\n",
    "credits_tmdb.rename(columns={'movie_id': 'id'}, inplace=True)\n",
    "tmdb_df = movies_tmdb.merge(credits_tmdb, on='id')\n",
    "\n",
    "# Add TMDB IDs and user ratings to the MovieLens dataset.\n",
    "links = links.dropna(subset=['tmdbId'])\n",
    "links['tmdbId'] = links['tmdbId'].astype('int64')\n",
    "\n",
    "ml_df = movies_ml.merge(links, on='movieId')\n",
    "ml_df = ml_df.merge(ratings, on='movieId')\n",
    "\n",
    "# Create the master dataset by merging MovieLens and TMDB dataframes.\n",
    "master_df = ml_df.merge(tmdb_df, left_on='tmdbId', right_on='id')\n",
    "\n",
    "# Select and rename essential columns for the final dataset.\n",
    "master_df = master_df[['userId', 'movieId', 'rating', 'title_x', 'overview', 'keywords']]\n",
    "master_df.rename(columns={'userId': 'user_id', 'movieId': 'movie_id', 'title_x': 'title', 'overview': 'plot_overview', 'keywords': 'human_keywords'}, inplace=True)\n",
    "\n",
    "# Ensure data integrity by removing rows with any missing values.\n",
    "master_df.dropna(inplace=True)\n",
    "\n",
    "# Save the unified and cleaned dataset to a CSV file.\n",
    "master_df.to_csv('/Users/mariostam/Documents/Projects/thesis/llm-powered-feature-engineering/data/master_dataframe.csv', index=False)\n",
    "\n",
    "print('Master dataframe created successfully!')\n",
    "print(master_df.head())"
   ]
  }
 ],
 "metadata": {
  "kernelspec": {
   "display_name": "base",
   "language": "python",
   "name": "python3"
  },
  "language_info": {
   "codemirror_mode": {
    "name": "ipython",
    "version": 3
   },
   "file_extension": ".py",
   "mimetype": "text/x-python",
   "name": "python",
   "nbconvert_exporter": "python",
   "pygments_lexer": "ipython3",
   "version": "3.13.5"
  }
 },
 "nbformat": 4,
 "nbformat_minor": 4
}

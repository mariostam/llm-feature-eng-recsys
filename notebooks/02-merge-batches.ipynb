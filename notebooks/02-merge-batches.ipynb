{
 "cells": [
  {
   "cell_type": "markdown",
   "metadata": {},
   "source": [
    "# 02 - Merge Processed Batches\n",
    "\n",
    "**Objective:** To download all processed Parquet batches from a specified GCS folder, merge them into a single DataFrame, and save the result locally."
   ]
  },
  {
   "cell_type": "markdown",
   "metadata": {},
   "source": [
    "## 1. Setup and Imports"
   ]
  },
  {
   "cell_type": "code",
   "execution_count": 1,
   "metadata": {
    "execution": {
     "iopub.execute_input": "2025-07-27T16:17:19.965325Z",
     "iopub.status.busy": "2025-07-27T16:17:19.965029Z",
     "iopub.status.idle": "2025-07-27T16:17:21.065173Z",
     "shell.execute_reply": "2025-07-27T16:17:21.064826Z"
    }
   },
   "outputs": [],
   "source": [
    "import pandas as pd\n",
    "from google.cloud import storage\n",
    "import gcsfs\n",
    "import os\n",
    "from tqdm.notebook import tqdm"
   ]
  },
  {
   "cell_type": "markdown",
   "metadata": {},
   "source": [
    "## 2. Configuration\n",
    "\n",
    "Set the GCS bucket name and the folder containing the batches. For this test, we are using the `test_batches/` folder."
   ]
  },
  {
   "cell_type": "code",
   "execution_count": 2,
   "metadata": {
    "execution": {
     "iopub.execute_input": "2025-07-27T16:17:21.067593Z",
     "iopub.status.busy": "2025-07-27T16:17:21.067352Z",
     "iopub.status.idle": "2025-07-27T16:17:21.069541Z",
     "shell.execute_reply": "2025-07-27T16:17:21.069272Z"
    }
   },
   "outputs": [],
   "source": [
    "BUCKET_NAME = 'llm-feature-engineering-thesis-bucket'\n",
    "PROJECT_ID = 'llm-feature-engineering-thesis'\n",
    "# For the real run, this will be 'processed_batches/'\n",
    "GCS_FOLDER = 'processed_batches/' \n",
    "LOCAL_OUTPUT_PATH = 'data/final_dataset_with_llm_keywords.parquet'
"
   ]
  },
  {
   "cell_type": "markdown",
   "metadata": {},
   "source": [
    "## 3. Download and Merge Batches"
   ]
  },
  {
   "cell_type": "code",
   "execution_count": 3,
   "metadata": {
    "execution": {
     "iopub.execute_input": "2025-07-27T16:17:21.071178Z",
     "iopub.status.busy": "2025-07-27T16:17:21.071030Z",
     "iopub.status.idle": "2025-07-27T16:17:24.784074Z",
     "shell.execute_reply": "2025-07-27T16:17:24.783482Z"
    }
   },
   "outputs": [
    {
     "name": "stdout",
     "output_type": "stream",
     "text": [
      "Connecting to Google Cloud Storage...\n"
     ]
    },
    {
     "name": "stdout",
     "output_type": "stream",
     "text": [
      "Found 3 batch files to merge.\n"
     ]
    },
    {
     "data": {
      "application/vnd.jupyter.widget-view+json": {
       "model_id": "2d2b4f1c78b441f695fc1cba727be700",
       "version_major": 2,
       "version_minor": 0
      },
      "text/plain": [
       "Merging Batches:   0%|          | 0/3 [00:00<?, ?it/s]"
      ]
     },
     "metadata": {},
     "output_type": "display_data"
    },
    {
     "name": "stdout",
     "output_type": "stream",
     "text": [
      "\n",
      "Merge complete.\n"
     ]
    }
   ],
   "source": [
    "print(\"Connecting to Google Cloud Storage...\")\n",
    "storage_client = storage.Client(project=PROJECT_ID)\n",
    "bucket = storage_client.bucket(BUCKET_NAME)\n",
    "\n",
    "blobs = list(bucket.list_blobs(prefix=GCS_FOLDER))\n",
    "# Filter out the folder itself if it's listed as a blob\n",
    "parquet_blobs = [blob for blob in blobs if blob.name.endswith('.parquet')]\n",
    "\n",
    "if not parquet_blobs:\n",
    "    print(f\"No .parquet files found in gs://{BUCKET_NAME}/{GCS_FOLDER}\")\n",
    "else:\n",
    "    print(f\"Found {len(parquet_blobs)} batch files to merge.\")\n",
    "    \n",
    "    # Use gcsfs to read Parquet files directly into pandas\n",
    "    gcs = gcsfs.GCSFileSystem(project=PROJECT_ID, token=storage_client._credentials)\n",
    "    \n",
    "    df_list = []\n",
    "    for blob in tqdm(parquet_blobs, desc=\"Merging Batches\"):\n",
    "        gcs_path = f'gs://{BUCKET_NAME}/{blob.name}'\n",
    "        with gcs.open(gcs_path, 'rb') as f:\n",
    "            df_batch = pd.read_parquet(f)\n",
    "            df_list.append(df_batch)\n",
    "            \n",
    "    # Concatenate all dataframes\n",
    "    merged_df = pd.concat(df_list, ignore_index=True)\n",
    "    \n",
    "    print(\"\\nMerge complete.\")"
   ]
  },
  {
   "cell_type": "markdown",
   "metadata": {},
   "source": [
    "## 4. Save Merged Data and Verify"
   ]
  },
  {
   "cell_type": "code",
   "execution_count": 4,
   "metadata": {
    "execution": {
     "iopub.execute_input": "2025-07-27T16:17:24.787914Z",
     "iopub.status.busy": "2025-07-27T16:17:24.787583Z",
     "iopub.status.idle": "2025-07-27T16:17:24.807284Z",
     "shell.execute_reply": "2025-07-27T16:17:24.806888Z"
    }
   },
   "outputs": [
    {
     "name": "stdout",
     "output_type": "stream",
     "text": [
      "Successfully saved merged data to data/merged_dummy_data.parquet\n",
      "Total rows in merged file: 6\n",
      "\n",
      "First 5 rows of merged data:\n",
      "   movie_id    title     llm_keywords\n",
      "0       101  Movie A   theme1, theme2\n",
      "1       102  Movie B   theme3, theme4\n",
      "2       103  Movie C   theme5, theme6\n",
      "3       104  Movie D   theme7, theme8\n",
      "4       105  Movie E  theme9, theme10\n"
     ]
    }
   ],
   "source": [
    "if not parquet_blobs:\n",
    "    print(\"Skipping save, as no data was merged.\")\n",
    "else:\n",
    "    # Ensure the output directory exists\n",
    "    os.makedirs(os.path.dirname(LOCAL_OUTPUT_PATH), exist_ok=True)\n",
    "    \n",
    "    # Save the merged dataframe\n",
    "    merged_df.to_parquet(LOCAL_OUTPUT_PATH)\n",
    "    \n",
    "    print(f\"Successfully saved merged data to {LOCAL_OUTPUT_PATH}\")\n",
    "    print(f\"Total rows in merged file: {len(merged_df)}\")\n",
    "    print(\"\\nFirst 5 rows of merged data:\")\n",
    "    print(merged_df.head())"
   ]
  }
 ],
 "metadata": {
  "kernelspec": {
   "display_name": "Python 3",
   "language": "python",
   "name": "python3"
  },
  "language_info": {
   "codemirror_mode": {
    "name": "ipython",
    "version": 3
   },
   "file_extension": ".py",
   "mimetype": "text/x-python",
   "name": "python",
   "nbconvert_exporter": "python",
   "pygments_lexer": "ipython3",
   "version": "3.13.5"
  },
  "widgets": {
   "application/vnd.jupyter.widget-state+json": {
    "state": {
     "2d288db1d4604a14abfd3724319133db": {
      "model_module": "@jupyter-widgets/controls",
      "model_module_version": "2.0.0",
      "model_name": "HTMLModel",
      "state": {
       "_dom_classes": [],
       "_model_module": "@jupyter-widgets/controls",
       "_model_module_version": "2.0.0",
       "_model_name": "HTMLModel",
       "_view_count": null,
       "_view_module": "@jupyter-widgets/controls",
       "_view_module_version": "2.0.0",
       "_view_name": "HTMLView",
       "description": "",
       "description_allow_html": false,
       "layout": "IPY_MODEL_68087480e2a045caa1af55329f4175f0",
       "placeholder": "​",
       "style": "IPY_MODEL_e3acd1e71ea8499ca8de1406a9890ffe",
       "tabbable": null,
       "tooltip": null,
       "value": " 3/3 [00:03&lt;00:00,  1.20it/s]"
      }
     },
     "2d2b4f1c78b441f695fc1cba727be700": {
      "model_module": "@jupyter-widgets/controls",
      "model_module_version": "2.0.0",
      "model_name": "HBoxModel",
      "state": {
       "_dom_classes": [],
       "_model_module": "@jupyter-widgets/controls",
       "_model_module_version": "2.0.0",
       "_model_name": "HBoxModel",
       "_view_count": null,
       "_view_module": "@jupyter-widgets/controls",
       "_view_module_version": "2.0.0",
       "_view_name": "HBoxView",
       "box_style": "",
       "children": [
        "IPY_MODEL_d12f5101df704bdbbfc1a8230be31f07",
        "IPY_MODEL_66be5166924841caa04d9f15637e4798",
        "IPY_MODEL_2d288db1d4604a14abfd3724319133db"
       ],
       "layout": "IPY_MODEL_36718b85ffc04c0bad05d0c7564b3bb7",
       "tabbable": null,
       "tooltip": null
      }
     },
     "36718b85ffc04c0bad05d0c7564b3bb7": {
      "model_module": "@jupyter-widgets/base",
      "model_module_version": "2.0.0",
      "model_name": "LayoutModel",
      "state": {
       "_model_module": "@jupyter-widgets/base",
       "_model_module_version": "2.0.0",
       "_model_name": "LayoutModel",
       "_view_count": null,
       "_view_module": "@jupyter-widgets/base",
       "_view_module_version": "2.0.0",
       "_view_name": "LayoutView",
       "align_content": null,
       "align_items": null,
       "align_self": null,
       "border_bottom": null,
       "border_left": null,
       "border_right": null,
       "border_top": null,
       "bottom": null,
       "display": null,
       "flex": null,
       "flex_flow": null,
       "grid_area": null,
       "grid_auto_columns": null,
       "grid_auto_flow": null,
       "grid_auto_rows": null,
       "grid_column": null,
       "grid_gap": null,
       "grid_row": null,
       "grid_template_areas": null,
       "grid_template_columns": null,
       "grid_template_rows": null,
       "height": null,
       "justify_content": null,
       "justify_items": null,
       "left": null,
       "margin": null,
       "max_height": null,
       "max_width": null,
       "min_height": null,
       "min_width": null,
       "object_fit": null,
       "object_position": null,
       "order": null,
       "overflow": null,
       "padding": null,
       "right": null,
       "top": null,
       "visibility": null,
       "width": null
      }
     },
     "66be5166924841caa04d9f15637e4798": {
      "model_module": "@jupyter-widgets/controls",
      "model_module_version": "2.0.0",
      "model_name": "FloatProgressModel",
      "state": {
       "_dom_classes": [],
       "_model_module": "@jupyter-widgets/controls",
       "_model_module_version": "2.0.0",
       "_model_name": "FloatProgressModel",
       "_view_count": null,
       "_view_module": "@jupyter-widgets/controls",
       "_view_module_version": "2.0.0",
       "_view_name": "ProgressView",
       "bar_style": "success",
       "description": "",
       "description_allow_html": false,
       "layout": "IPY_MODEL_caea1b642c34477f864bfe4a11f49228",
       "max": 3.0,
       "min": 0.0,
       "orientation": "horizontal",
       "style": "IPY_MODEL_ec7085764dba4311b1e095eac2e8fb03",
       "tabbable": null,
       "tooltip": null,
       "value": 3.0
      }
     },
     "68087480e2a045caa1af55329f4175f0": {
      "model_module": "@jupyter-widgets/base",
      "model_module_version": "2.0.0",
      "model_name": "LayoutModel",
      "state": {
       "_model_module": "@jupyter-widgets/base",
       "_model_module_version": "2.0.0",
       "_model_name": "LayoutModel",
       "_view_count": null,
       "_view_module": "@jupyter-widgets/base",
       "_view_module_version": "2.0.0",
       "_view_name": "LayoutView",
       "align_content": null,
       "align_items": null,
       "align_self": null,
       "border_bottom": null,
       "border_left": null,
       "border_right": null,
       "border_top": null,
       "bottom": null,
       "display": null,
       "flex": null,
       "flex_flow": null,
       "grid_area": null,
       "grid_auto_columns": null,
       "grid_auto_flow": null,
       "grid_auto_rows": null,
       "grid_column": null,
       "grid_gap": null,
       "grid_row": null,
       "grid_template_areas": null,
       "grid_template_columns": null,
       "grid_template_rows": null,
       "height": null,
       "justify_content": null,
       "justify_items": null,
       "left": null,
       "margin": null,
       "max_height": null,
       "max_width": null,
       "min_height": null,
       "min_width": null,
       "object_fit": null,
       "object_position": null,
       "order": null,
       "overflow": null,
       "padding": null,
       "right": null,
       "top": null,
       "visibility": null,
       "width": null
      }
     },
     "6b5a78dae91b46e7a23d10183ab954d7": {
      "model_module": "@jupyter-widgets/controls",
      "model_module_version": "2.0.0",
      "model_name": "HTMLStyleModel",
      "state": {
       "_model_module": "@jupyter-widgets/controls",
       "_model_module_version": "2.0.0",
       "_model_name": "HTMLStyleModel",
       "_view_count": null,
       "_view_module": "@jupyter-widgets/base",
       "_view_module_version": "2.0.0",
       "_view_name": "StyleView",
       "background": null,
       "description_width": "",
       "font_size": null,
       "text_color": null
      }
     },
     "caea1b642c34477f864bfe4a11f49228": {
      "model_module": "@jupyter-widgets/base",
      "model_module_version": "2.0.0",
      "model_name": "LayoutModel",
      "state": {
       "_model_module": "@jupyter-widgets/base",
       "_model_module_version": "2.0.0",
       "_model_name": "LayoutModel",
       "_view_count": null,
       "_view_module": "@jupyter-widgets/base",
       "_view_module_version": "2.0.0",
       "_view_name": "LayoutView",
       "align_content": null,
       "align_items": null,
       "align_self": null,
       "border_bottom": null,
       "border_left": null,
       "border_right": null,
       "border_top": null,
       "bottom": null,
       "display": null,
       "flex": null,
       "flex_flow": null,
       "grid_area": null,
       "grid_auto_columns": null,
       "grid_auto_flow": null,
       "grid_auto_rows": null,
       "grid_column": null,
       "grid_gap": null,
       "grid_row": null,
       "grid_template_areas": null,
       "grid_template_columns": null,
       "grid_template_rows": null,
       "height": null,
       "justify_content": null,
       "justify_items": null,
       "left": null,
       "margin": null,
       "max_height": null,
       "max_width": null,
       "min_height": null,
       "min_width": null,
       "object_fit": null,
       "object_position": null,
       "order": null,
       "overflow": null,
       "padding": null,
       "right": null,
       "top": null,
       "visibility": null,
       "width": null
      }
     },
     "d12f5101df704bdbbfc1a8230be31f07": {
      "model_module": "@jupyter-widgets/controls",
      "model_module_version": "2.0.0",
      "model_name": "HTMLModel",
      "state": {
       "_dom_classes": [],
       "_model_module": "@jupyter-widgets/controls",
       "_model_module_version": "2.0.0",
       "_model_name": "HTMLModel",
       "_view_count": null,
       "_view_module": "@jupyter-widgets/controls",
       "_view_module_version": "2.0.0",
       "_view_name": "HTMLView",
       "description": "",
       "description_allow_html": false,
       "layout": "IPY_MODEL_e522799c368f4f1b80e1d84d83568bdf",
       "placeholder": "​",
       "style": "IPY_MODEL_6b5a78dae91b46e7a23d10183ab954d7",
       "tabbable": null,
       "tooltip": null,
       "value": "Merging Batches: 100%"
      }
     },
     "e3acd1e71ea8499ca8de1406a9890ffe": {
      "model_module": "@jupyter-widgets/controls",
      "model_module_version": "2.0.0",
      "model_name": "HTMLStyleModel",
      "state": {
       "_model_module": "@jupyter-widgets/controls",
       "_model_module_version": "2.0.0",
       "_model_name": "HTMLStyleModel",
       "_view_count": null,
       "_view_module": "@jupyter-widgets/base",
       "_view_module_version": "2.0.0",
       "_view_name": "StyleView",
       "background": null,
       "description_width": "",
       "font_size": null,
       "text_color": null
      }
     },
     "e522799c368f4f1b80e1d84d83568bdf": {
      "model_module": "@jupyter-widgets/base",
      "model_module_version": "2.0.0",
      "model_name": "LayoutModel",
      "state": {
       "_model_module": "@jupyter-widgets/base",
       "_model_module_version": "2.0.0",
       "_model_name": "LayoutModel",
       "_view_count": null,
       "_view_module": "@jupyter-widgets/base",
       "_view_module_version": "2.0.0",
       "_view_name": "LayoutView",
       "align_content": null,
       "align_items": null,
       "align_self": null,
       "border_bottom": null,
       "border_left": null,
       "border_right": null,
       "border_top": null,
       "bottom": null,
       "display": null,
       "flex": null,
       "flex_flow": null,
       "grid_area": null,
       "grid_auto_columns": null,
       "grid_auto_flow": null,
       "grid_auto_rows": null,
       "grid_column": null,
       "grid_gap": null,
       "grid_row": null,
       "grid_template_areas": null,
       "grid_template_columns": null,
       "grid_template_rows": null,
       "height": null,
       "justify_content": null,
       "justify_items": null,
       "left": null,
       "margin": null,
       "max_height": null,
       "max_width": null,
       "min_height": null,
       "min_width": null,
       "object_fit": null,
       "object_position": null,
       "order": null,
       "overflow": null,
       "padding": null,
       "right": null,
       "top": null,
       "visibility": null,
       "width": null
      }
     },
     "ec7085764dba4311b1e095eac2e8fb03": {
      "model_module": "@jupyter-widgets/controls",
      "model_module_version": "2.0.0",
      "model_name": "ProgressStyleModel",
      "state": {
       "_model_module": "@jupyter-widgets/controls",
       "_model_module_version": "2.0.0",
       "_model_name": "ProgressStyleModel",
       "_view_count": null,
       "_view_module": "@jupyter-widgets/base",
       "_view_module_version": "2.0.0",
       "_view_name": "StyleView",
       "bar_color": null,
       "description_width": ""
      }
     }
    },
    "version_major": 2,
    "version_minor": 0
   }
  }
 },
 "nbformat": 4,
 "nbformat_minor": 4
}

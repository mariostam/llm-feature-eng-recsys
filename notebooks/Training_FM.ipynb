{
  "nbformat": 4,
  "nbformat_minor": 0,
  "metadata": {
    "colab": {
      "provenance": []
    },
    "kernelspec": {
      "name": "python3",
      "display_name": "Python 3"
    },
    "language_info": {
      "name": "python"
    }
  },
  "cells": [
    {
      "cell_type": "code",
      "execution_count": 1,
      "metadata": {
        "colab": {
          "base_uri": "https://localhost:8080/"
        },
        "id": "_gdcgI0ccIMZ",
        "outputId": "3bb993c5-ca91-469b-f336-c81bea299374"
      },
      "outputs": [
        {
          "output_type": "stream",
          "name": "stdout",
          "text": [
            "Drive already mounted at /content/drive; to attempt to forcibly remount, call drive.mount(\"/content/drive\", force_remount=True).\n"
          ]
        }
      ],
      "source": [
        "#Mount google drive\n",
        "from google.colab import drive\n",
        "drive.mount('/content/drive')"
      ]
    },
    {
      "cell_type": "code",
      "source": [
        "%cd /content/drive/MyDrive/thesis/llm-powered-feature-engineering/\n"
      ],
      "metadata": {
        "colab": {
          "base_uri": "https://localhost:8080/"
        },
        "id": "WRQm9yRWdn6f",
        "outputId": "3a0b8258-baba-4758-c391-ce96efb5f9e8"
      },
      "execution_count": 2,
      "outputs": [
        {
          "output_type": "stream",
          "name": "stdout",
          "text": [
            "/content/drive/MyDrive/thesis/llm-powered-feature-engineering\n"
          ]
        }
      ]
    },
    {
      "cell_type": "code",
      "source": [
        "#Install libraries\n",
        "!pip install pandas numpy torch scikit-learn gcsfs"
      ],
      "metadata": {
        "colab": {
          "base_uri": "https://localhost:8080/"
        },
        "id": "_jR-BICueDkk",
        "outputId": "d840fa02-6873-4c22-81af-c1183fe4f9ef"
      },
      "execution_count": 3,
      "outputs": [
        {
          "output_type": "stream",
          "name": "stdout",
          "text": [
            "Requirement already satisfied: pandas in /usr/local/lib/python3.11/dist-packages (2.2.2)\n",
            "Requirement already satisfied: numpy in /usr/local/lib/python3.11/dist-packages (2.0.2)\n",
            "Requirement already satisfied: torch in /usr/local/lib/python3.11/dist-packages (2.6.0+cu124)\n",
            "Requirement already satisfied: scikit-learn in /usr/local/lib/python3.11/dist-packages (1.6.1)\n",
            "Requirement already satisfied: gcsfs in /usr/local/lib/python3.11/dist-packages (2025.3.0)\n",
            "Requirement already satisfied: python-dateutil>=2.8.2 in /usr/local/lib/python3.11/dist-packages (from pandas) (2.9.0.post0)\n",
            "Requirement already satisfied: pytz>=2020.1 in /usr/local/lib/python3.11/dist-packages (from pandas) (2025.2)\n",
            "Requirement already satisfied: tzdata>=2022.7 in /usr/local/lib/python3.11/dist-packages (from pandas) (2025.2)\n",
            "Requirement already satisfied: filelock in /usr/local/lib/python3.11/dist-packages (from torch) (3.18.0)\n",
            "Requirement already satisfied: typing-extensions>=4.10.0 in /usr/local/lib/python3.11/dist-packages (from torch) (4.14.1)\n",
            "Requirement already satisfied: networkx in /usr/local/lib/python3.11/dist-packages (from torch) (3.5)\n",
            "Requirement already satisfied: jinja2 in /usr/local/lib/python3.11/dist-packages (from torch) (3.1.6)\n",
            "Requirement already satisfied: fsspec in /usr/local/lib/python3.11/dist-packages (from torch) (2025.3.0)\n",
            "Requirement already satisfied: nvidia-cuda-nvrtc-cu12==12.4.127 in /usr/local/lib/python3.11/dist-packages (from torch) (12.4.127)\n",
            "Requirement already satisfied: nvidia-cuda-runtime-cu12==12.4.127 in /usr/local/lib/python3.11/dist-packages (from torch) (12.4.127)\n",
            "Requirement already satisfied: nvidia-cuda-cupti-cu12==12.4.127 in /usr/local/lib/python3.11/dist-packages (from torch) (12.4.127)\n",
            "Requirement already satisfied: nvidia-cudnn-cu12==9.1.0.70 in /usr/local/lib/python3.11/dist-packages (from torch) (9.1.0.70)\n",
            "Requirement already satisfied: nvidia-cublas-cu12==12.4.5.8 in /usr/local/lib/python3.11/dist-packages (from torch) (12.4.5.8)\n",
            "Requirement already satisfied: nvidia-cufft-cu12==11.2.1.3 in /usr/local/lib/python3.11/dist-packages (from torch) (11.2.1.3)\n",
            "Requirement already satisfied: nvidia-curand-cu12==10.3.5.147 in /usr/local/lib/python3.11/dist-packages (from torch) (10.3.5.147)\n",
            "Requirement already satisfied: nvidia-cusolver-cu12==11.6.1.9 in /usr/local/lib/python3.11/dist-packages (from torch) (11.6.1.9)\n",
            "Requirement already satisfied: nvidia-cusparse-cu12==12.3.1.170 in /usr/local/lib/python3.11/dist-packages (from torch) (12.3.1.170)\n",
            "Requirement already satisfied: nvidia-cusparselt-cu12==0.6.2 in /usr/local/lib/python3.11/dist-packages (from torch) (0.6.2)\n",
            "Requirement already satisfied: nvidia-nccl-cu12==2.21.5 in /usr/local/lib/python3.11/dist-packages (from torch) (2.21.5)\n",
            "Requirement already satisfied: nvidia-nvtx-cu12==12.4.127 in /usr/local/lib/python3.11/dist-packages (from torch) (12.4.127)\n",
            "Requirement already satisfied: nvidia-nvjitlink-cu12==12.4.127 in /usr/local/lib/python3.11/dist-packages (from torch) (12.4.127)\n",
            "Requirement already satisfied: triton==3.2.0 in /usr/local/lib/python3.11/dist-packages (from torch) (3.2.0)\n",
            "Requirement already satisfied: sympy==1.13.1 in /usr/local/lib/python3.11/dist-packages (from torch) (1.13.1)\n",
            "Requirement already satisfied: mpmath<1.4,>=1.1.0 in /usr/local/lib/python3.11/dist-packages (from sympy==1.13.1->torch) (1.3.0)\n",
            "Requirement already satisfied: scipy>=1.6.0 in /usr/local/lib/python3.11/dist-packages (from scikit-learn) (1.16.0)\n",
            "Requirement already satisfied: joblib>=1.2.0 in /usr/local/lib/python3.11/dist-packages (from scikit-learn) (1.5.1)\n",
            "Requirement already satisfied: threadpoolctl>=3.1.0 in /usr/local/lib/python3.11/dist-packages (from scikit-learn) (3.6.0)\n",
            "Requirement already satisfied: aiohttp!=4.0.0a0,!=4.0.0a1 in /usr/local/lib/python3.11/dist-packages (from gcsfs) (3.12.14)\n",
            "Requirement already satisfied: decorator>4.1.2 in /usr/local/lib/python3.11/dist-packages (from gcsfs) (4.4.2)\n",
            "Requirement already satisfied: google-auth>=1.2 in /usr/local/lib/python3.11/dist-packages (from gcsfs) (2.38.0)\n",
            "Requirement already satisfied: google-auth-oauthlib in /usr/local/lib/python3.11/dist-packages (from gcsfs) (1.2.2)\n",
            "Requirement already satisfied: google-cloud-storage in /usr/local/lib/python3.11/dist-packages (from gcsfs) (2.19.0)\n",
            "Requirement already satisfied: requests in /usr/local/lib/python3.11/dist-packages (from gcsfs) (2.32.3)\n",
            "Requirement already satisfied: aiohappyeyeballs>=2.5.0 in /usr/local/lib/python3.11/dist-packages (from aiohttp!=4.0.0a0,!=4.0.0a1->gcsfs) (2.6.1)\n",
            "Requirement already satisfied: aiosignal>=1.4.0 in /usr/local/lib/python3.11/dist-packages (from aiohttp!=4.0.0a0,!=4.0.0a1->gcsfs) (1.4.0)\n",
            "Requirement already satisfied: attrs>=17.3.0 in /usr/local/lib/python3.11/dist-packages (from aiohttp!=4.0.0a0,!=4.0.0a1->gcsfs) (25.3.0)\n",
            "Requirement already satisfied: frozenlist>=1.1.1 in /usr/local/lib/python3.11/dist-packages (from aiohttp!=4.0.0a0,!=4.0.0a1->gcsfs) (1.7.0)\n",
            "Requirement already satisfied: multidict<7.0,>=4.5 in /usr/local/lib/python3.11/dist-packages (from aiohttp!=4.0.0a0,!=4.0.0a1->gcsfs) (6.6.3)\n",
            "Requirement already satisfied: propcache>=0.2.0 in /usr/local/lib/python3.11/dist-packages (from aiohttp!=4.0.0a0,!=4.0.0a1->gcsfs) (0.3.2)\n",
            "Requirement already satisfied: yarl<2.0,>=1.17.0 in /usr/local/lib/python3.11/dist-packages (from aiohttp!=4.0.0a0,!=4.0.0a1->gcsfs) (1.20.1)\n",
            "Requirement already satisfied: cachetools<6.0,>=2.0.0 in /usr/local/lib/python3.11/dist-packages (from google-auth>=1.2->gcsfs) (5.5.2)\n",
            "Requirement already satisfied: pyasn1-modules>=0.2.1 in /usr/local/lib/python3.11/dist-packages (from google-auth>=1.2->gcsfs) (0.4.2)\n",
            "Requirement already satisfied: rsa<5,>=3.1.4 in /usr/local/lib/python3.11/dist-packages (from google-auth>=1.2->gcsfs) (4.9.1)\n",
            "Requirement already satisfied: six>=1.5 in /usr/local/lib/python3.11/dist-packages (from python-dateutil>=2.8.2->pandas) (1.17.0)\n",
            "Requirement already satisfied: requests-oauthlib>=0.7.0 in /usr/local/lib/python3.11/dist-packages (from google-auth-oauthlib->gcsfs) (2.0.0)\n",
            "Requirement already satisfied: google-api-core<3.0.0dev,>=2.15.0 in /usr/local/lib/python3.11/dist-packages (from google-cloud-storage->gcsfs) (2.25.1)\n",
            "Requirement already satisfied: google-cloud-core<3.0dev,>=2.3.0 in /usr/local/lib/python3.11/dist-packages (from google-cloud-storage->gcsfs) (2.4.3)\n",
            "Requirement already satisfied: google-resumable-media>=2.7.2 in /usr/local/lib/python3.11/dist-packages (from google-cloud-storage->gcsfs) (2.7.2)\n",
            "Requirement already satisfied: google-crc32c<2.0dev,>=1.0 in /usr/local/lib/python3.11/dist-packages (from google-cloud-storage->gcsfs) (1.7.1)\n",
            "Requirement already satisfied: charset-normalizer<4,>=2 in /usr/local/lib/python3.11/dist-packages (from requests->gcsfs) (3.4.2)\n",
            "Requirement already satisfied: idna<4,>=2.5 in /usr/local/lib/python3.11/dist-packages (from requests->gcsfs) (3.10)\n",
            "Requirement already satisfied: urllib3<3,>=1.21.1 in /usr/local/lib/python3.11/dist-packages (from requests->gcsfs) (2.5.0)\n",
            "Requirement already satisfied: certifi>=2017.4.17 in /usr/local/lib/python3.11/dist-packages (from requests->gcsfs) (2025.7.14)\n",
            "Requirement already satisfied: MarkupSafe>=2.0 in /usr/local/lib/python3.11/dist-packages (from jinja2->torch) (3.0.2)\n",
            "Requirement already satisfied: googleapis-common-protos<2.0.0,>=1.56.2 in /usr/local/lib/python3.11/dist-packages (from google-api-core<3.0.0dev,>=2.15.0->google-cloud-storage->gcsfs) (1.70.0)\n",
            "Requirement already satisfied: protobuf!=3.20.0,!=3.20.1,!=4.21.0,!=4.21.1,!=4.21.2,!=4.21.3,!=4.21.4,!=4.21.5,<7.0.0,>=3.19.5 in /usr/local/lib/python3.11/dist-packages (from google-api-core<3.0.0dev,>=2.15.0->google-cloud-storage->gcsfs) (5.29.5)\n",
            "Requirement already satisfied: proto-plus<2.0.0,>=1.22.3 in /usr/local/lib/python3.11/dist-packages (from google-api-core<3.0.0dev,>=2.15.0->google-cloud-storage->gcsfs) (1.26.1)\n",
            "Requirement already satisfied: pyasn1<0.7.0,>=0.6.1 in /usr/local/lib/python3.11/dist-packages (from pyasn1-modules>=0.2.1->google-auth>=1.2->gcsfs) (0.6.1)\n",
            "Requirement already satisfied: oauthlib>=3.0.0 in /usr/local/lib/python3.11/dist-packages (from requests-oauthlib>=0.7.0->google-auth-oauthlib->gcsfs) (3.3.1)\n"
          ]
        }
      ]
    },
    {
      "cell_type": "code",
      "source": [
        "#Run Factorization Machine\n",
        "!python scripts/run_fm_model.py"
      ],
      "metadata": {
        "colab": {
          "base_uri": "https://localhost:8080/"
        },
        "id": "xYGN9xjVfMez",
        "outputId": "104a3572-2ab0-40d9-e617-dc0ff75f94d8"
      },
      "execution_count": 4,
      "outputs": [
        {
          "output_type": "stream",
          "name": "stdout",
          "text": [
            "--- 1. Loading and Preprocessing Data ---\n",
            "Real dataset loaded successfully. Shape: (5000, 7)\n",
            "\n",
            "--- 2. Performing Feature Engineering ---\n",
            "Control (Human) Feature Matrix Shape: (5000, 5479)\n",
            "Experimental (LLM) Feature Matrix Shape: (5000, 6314)\n",
            "\n",
            "DataLoaders created successfully.\n",
            "\n",
            "--- 3. Starting Control Group Experiment (Human Keywords) ---\n",
            "Using device: cpu\n",
            "Training Epochs:   0% 0/10 [00:00<?, ?it/s]Epoch 1/10 | Train Loss: 5177.5766 | Test RMSE: 88.1750\n",
            "Training Epochs:  10% 1/10 [00:00<00:03,  2.42it/s]Epoch 2/10 | Train Loss: 4541.5780 | Test RMSE: 35.0072\n",
            "Training Epochs:  20% 2/10 [00:00<00:03,  2.62it/s]Epoch 3/10 | Train Loss: 3010.4912 | Test RMSE: 30.3009\n",
            "Training Epochs:  30% 3/10 [00:01<00:02,  2.58it/s]Epoch 4/10 | Train Loss: 724.7752 | Test RMSE: 43.2066\n",
            "Training Epochs:  40% 4/10 [00:01<00:02,  2.66it/s]Epoch 5/10 | Train Loss: 1153.3538 | Test RMSE: 14.0511\n",
            "Training Epochs:  50% 5/10 [00:01<00:01,  2.71it/s]Epoch 6/10 | Train Loss: 793.1558 | Test RMSE: 20.0479\n",
            "Training Epochs:  60% 6/10 [00:02<00:01,  2.65it/s]Epoch 7/10 | Train Loss: 231.4586 | Test RMSE: 24.1804\n",
            "Training Epochs:  70% 7/10 [00:02<00:01,  2.67it/s]Epoch 8/10 | Train Loss: 376.4445 | Test RMSE: 6.2418\n",
            "Training Epochs:  80% 8/10 [00:03<00:00,  2.71it/s]Epoch 9/10 | Train Loss: 233.8966 | Test RMSE: 10.4610\n",
            "Training Epochs:  90% 9/10 [00:03<00:00,  2.66it/s]Epoch 10/10 | Train Loss: 85.4971 | Test RMSE: 14.0183\n",
            "Training Epochs: 100% 10/10 [00:03<00:00,  2.66it/s]\n",
            "Bootstrapping RMSE: 100% 5000/5000 [04:43<00:00, 17.63it/s]\n",
            "\\nFinal RMSE for Control (Human) Model: 14.0183\n",
            "\n",
            "--- 4. Starting Experimental Group Experiment (LLM Keywords) ---\n",
            "Using device: cpu\n",
            "Training Epochs:   0% 0/10 [00:00<?, ?it/s]Epoch 1/10 | Train Loss: 8.7042 | Test RMSE: 1.4713\n",
            "Training Epochs:  10% 1/10 [00:00<00:04,  2.11it/s]Epoch 2/10 | Train Loss: 4.7297 | Test RMSE: 2.1864\n",
            "Training Epochs:  20% 2/10 [00:00<00:03,  2.19it/s]Epoch 3/10 | Train Loss: 3.5035 | Test RMSE: 1.9137\n",
            "Training Epochs:  30% 3/10 [00:01<00:03,  2.25it/s]Epoch 4/10 | Train Loss: 3.0189 | Test RMSE: 1.5198\n",
            "Training Epochs:  40% 4/10 [00:01<00:02,  2.26it/s]Epoch 5/10 | Train Loss: 2.3041 | Test RMSE: 1.3385\n",
            "Training Epochs:  50% 5/10 [00:02<00:02,  2.25it/s]Epoch 6/10 | Train Loss: 1.1771 | Test RMSE: 1.3930\n",
            "Training Epochs:  60% 6/10 [00:02<00:01,  2.19it/s]Epoch 7/10 | Train Loss: 0.7944 | Test RMSE: 1.4916\n",
            "Training Epochs:  70% 7/10 [00:03<00:01,  2.21it/s]Epoch 8/10 | Train Loss: 0.7776 | Test RMSE: 1.1765\n",
            "Training Epochs:  80% 8/10 [00:03<00:00,  2.23it/s]Epoch 9/10 | Train Loss: 0.5266 | Test RMSE: 1.1580\n",
            "Training Epochs:  90% 9/10 [00:04<00:00,  2.25it/s]Epoch 10/10 | Train Loss: 0.3061 | Test RMSE: 1.2987\n",
            "Training Epochs: 100% 10/10 [00:04<00:00,  2.22it/s]\n",
            "Bootstrapping RMSE: 100% 5000/5000 [05:22<00:00, 15.52it/s]\n",
            "\\nFinal RMSE for Experimental (LLM) Model: 1.2987\n",
            "\n",
            "========== 5. EXPERIMENT RESULTS ==========\n",
            "RMSE (Human Keywords): 14.0183 (95% CI: 13.1529-14.8641)\n",
            "RMSE (LLM Keywords):   1.2987 (95% CI: 1.2449-1.3517)\n",
            "========================================\n",
            "\n",
            "Hypothesis Confirmed: LLM-based model performed statistically significantly better (95% CI: 1.2449-1.3517 vs 13.1529-14.8641).\n"
          ]
        }
      ]
    }
  ]
}
{
 "nbformat": 4,
 "nbformat_minor": 0,
 "metadata": {
  "colab": {
   "provenance": []
  },
  "kernelspec": {
   "name": "python3",
   "display_name": "Python 3"
  },
  "language_info": {
   "name": "python"
  }
 },
 "cells": [
  {
   "cell_type": "markdown",
   "source": [
    "## Step 1: Setup and Authentication"
   ]
  },
  {
   "cell_type": "code",
   "source": [
    "# Authenticate to Google Cloud. This is required to access the GCS bucket.\n",
    "from google.colab import auth\n",
    "auth.authenticate_user()"
   ],
   "metadata": {
    "id": "auth_cell"
   },
   "execution_count": null,
   "outputs": []
  },
  {
   "cell_type": "markdown",
   "source": [
    "## Step 2: Clone the Repository and Install Dependencies"
   ]
  },
  {
   "cell_type": "code",
   "source": [
    "# Clone the project repository from GitHub into the Colab environment.\n",
    "# This ensures we are always using the latest version of the code.\n",
    "!git clone https://github.com/mariostam/llm-feature-eng-recsys.git\n",
    "%cd llm-feature-eng-recsys"
   ],
   "metadata": {
    "id": "clone_repo_cell"
   },
   "execution_count": null,
   "outputs": []
  },
  {
   "cell_type": "code",
   "source": [
    "# Install the necessary Python libraries.\n",
    "!pip install pandas numpy torch scikit-learn gcsfs optuna"
   ],
   "metadata": {
    "id": "_jR-BICueDkk"
   },
   "execution_count": null,
   "outputs": []
  },
  {
   "cell_type": "markdown",
   "source": [
    "## Step 3: Run the Experiment"
   ]
  },
  {
   "cell_type": "code",
   "source": [
    "# Run the main experiment script.\n",
    "# This will now read the data directly from GCS, tune both models, and print the final comparison.\n",
    "!python scripts/run_fm_model.py"
   ],
   "metadata": {
    "id": "xYGN9xjVfMez"
   },
   "execution_count": null,
   "outputs": []
  }
 ]
}